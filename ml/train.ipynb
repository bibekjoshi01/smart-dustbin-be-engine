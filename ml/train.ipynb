{
 "cells": [
  {
   "cell_type": "markdown",
   "id": "81ac9635",
   "metadata": {},
   "source": [
    "## Install Dependencies"
   ]
  },
  {
   "cell_type": "code",
   "execution_count": null,
   "id": "a003955e",
   "metadata": {},
   "outputs": [],
   "source": [
    "!pip install tqdm\n",
    "!pip install torch\n",
    "!pip install torchvision\n",
    "!pip install kaggle"
   ]
  },
  {
   "cell_type": "markdown",
   "id": "db55b349",
   "metadata": {},
   "source": [
    "## Load DataSet"
   ]
  },
  {
   "cell_type": "code",
   "execution_count": null,
   "id": "0db17b48",
   "metadata": {},
   "outputs": [],
   "source": [
    "import os\n",
    "os.environ['KAGGLE_USERNAME'] = \"manishjoshimj\"\n",
    "os.environ['KAGGLE_KEY'] = \"14910efaaa9fb2b9f03bd5f3dc575116\"\n",
    "\n",
    "!kaggle datasets download -d manishjoshimj/organico-and-recyclabler-dataset"
   ]
  },
  {
   "cell_type": "code",
   "execution_count": null,
   "id": "536f87a6",
   "metadata": {},
   "outputs": [],
   "source": [
    "# Unzip the dataset\n",
    "\n",
    "!unzip -q organico-and-recyclabler-dataset.zip -d waste-dataset"
   ]
  },
  {
   "cell_type": "markdown",
   "id": "9cd45231",
   "metadata": {},
   "source": [
    "## Necessary Imports"
   ]
  },
  {
   "cell_type": "code",
   "execution_count": null,
   "id": "3dee3d4c",
   "metadata": {},
   "outputs": [],
   "source": [
    "import os\n",
    "import torch\n",
    "import torch.nn as nn\n",
    "import torch.optim as optim\n",
    "from torchvision import datasets, models, transforms\n",
    "from torch.utils.data import DataLoader\n",
    "from tqdm import tqdm"
   ]
  },
  {
   "cell_type": "code",
   "execution_count": null,
   "id": "2b0c5d01",
   "metadata": {},
   "outputs": [],
   "source": [
    "# Constants\n",
    "device = torch.device(\"cuda\" if torch.cuda.is_available() else \"cpu\")\n",
    "IMG_SIZE = 224\n",
    "BATCH_SIZE = 32\n",
    "EPOCHS = 10\n",
    "DATASET_DIR = '/content/waste-dataset/O_R_WASTE_CLASSIFICATION_DATASET'"
   ]
  },
  {
   "cell_type": "code",
   "execution_count": null,
   "id": "921d3291",
   "metadata": {},
   "outputs": [],
   "source": [
    "# Transforming the dataset using randomization\n",
    "\n",
    "train_transform = transforms.Compose([\n",
    "    transforms.Resize((IMG_SIZE, IMG_SIZE)),\n",
    "    transforms.RandomHorizontalFlip(),\n",
    "    transforms.RandomRotation(10),\n",
    "    transforms.ToTensor(),\n",
    "    transforms.Normalize([0.485, 0.456, 0.406], [0.229, 0.224, 0.225])\n",
    "])\n",
    "\n",
    "test_transform = transforms.Compose([\n",
    "    transforms.Resize((IMG_SIZE, IMG_SIZE)),\n",
    "    transforms.ToTensor(),\n",
    "    transforms.Normalize([0.485, 0.456, 0.406], [0.229, 0.224, 0.225])\n",
    "])"
   ]
  },
  {
   "cell_type": "code",
   "execution_count": null,
   "id": "afd5e761",
   "metadata": {},
   "outputs": [],
   "source": [
    "# Loading Dataset\n",
    "\n",
    "train_dataset = datasets.ImageFolder(os.path.join(DATASET_DIR, \"TRAIN\"), transform=train_transform)\n",
    "test_dataset = datasets.ImageFolder(os.path.join(DATASET_DIR, \"TEST\"), transform=test_transform)"
   ]
  },
  {
   "cell_type": "code",
   "execution_count": null,
   "id": "98b237e5",
   "metadata": {},
   "outputs": [],
   "source": [
    "# Data Loaders\n",
    "\n",
    "train_loader = DataLoader(\n",
    "    train_dataset,\n",
    "    batch_size=BATCH_SIZE,\n",
    "    shuffle=True,\n",
    "    num_workers=2,\n",
    "    pin_memory=True,\n",
    "    persistent_workers=True\n",
    ")\n",
    "\n",
    "test_loader = DataLoader(\n",
    "    test_dataset,\n",
    "    batch_size=BATCH_SIZE,\n",
    "    shuffle=False,\n",
    "    num_workers=2,\n",
    "    pin_memory=True,\n",
    "    persistent_workers=True\n",
    ")"
   ]
  },
  {
   "cell_type": "markdown",
   "id": "a3c073bf",
   "metadata": {},
   "source": [
    "## Model Training"
   ]
  },
  {
   "cell_type": "code",
   "execution_count": null,
   "id": "2521c984",
   "metadata": {},
   "outputs": [],
   "source": [
    "# DenseNet201 Refining\n",
    "\n",
    "def get_model():\n",
    "    model = models.densenet201(pretrained=True)\n",
    "\n",
    "    # Freeze all pretrained layers\n",
    "    for param in model.parameters():\n",
    "        param.requires_grad = False\n",
    "\n",
    "    # Replace the classifier\n",
    "    num_ftrs = model.classifier.in_features\n",
    "    model.classifier = nn.Sequential(\n",
    "        nn.Linear(num_ftrs, 256),\n",
    "        nn.ReLU(),\n",
    "        nn.Dropout(0.4),\n",
    "        nn.Linear(256, 2)  # 2 classes: O (organic), R (recyclable)\n",
    "    )\n",
    "\n",
    "    return model.to(device)\n",
    "\n",
    "model = get_model()"
   ]
  },
  {
   "cell_type": "code",
   "execution_count": null,
   "id": "a59fc160",
   "metadata": {},
   "outputs": [],
   "source": [
    "# Loss Function and Optimizer\n",
    "criterion = nn.CrossEntropyLoss()\n",
    "optimizer = optim.Adam(model.classifier.parameters(), lr=1e-4)"
   ]
  },
  {
   "cell_type": "code",
   "execution_count": null,
   "id": "34d2d5d0",
   "metadata": {},
   "outputs": [],
   "source": [
    "def train_model(model, train_loader, test_loader, epochs, criterion, optimizer, device):\n",
    "    train_acc, val_acc = [], []\n",
    "\n",
    "    for epoch in range(epochs):\n",
    "        model.train()\n",
    "        correct = total = 0\n",
    "        running_loss = 0.0\n",
    "\n",
    "        print(f\"\\nEpoch {epoch + 1}/{epochs}\")\n",
    "        train_bar = tqdm(train_loader, desc=\"Training\", leave=False)\n",
    "\n",
    "        for images, labels in train_bar:\n",
    "            images, labels = images.to(device), labels.to(device)\n",
    "\n",
    "            outputs = model(images)\n",
    "            loss = criterion(outputs, labels)\n",
    "\n",
    "            optimizer.zero_grad()\n",
    "            loss.backward()\n",
    "            optimizer.step()\n",
    "\n",
    "            preds = torch.argmax(outputs, 1)\n",
    "            correct += (preds == labels).sum().item()\n",
    "            total += labels.size(0)\n",
    "            running_loss += loss.item()\n",
    "\n",
    "            train_bar.set_postfix({\n",
    "                'Loss': f'{running_loss / total:.4f}',\n",
    "                'Acc': f'{correct / total:.4f}'\n",
    "            })\n",
    "\n",
    "        acc = correct / total\n",
    "        train_acc.append(acc)\n",
    "\n",
    "        # Validation phase\n",
    "        model.eval()\n",
    "        correct = total = 0\n",
    "        val_bar = tqdm(test_loader, desc=\"Validating\", leave=False)\n",
    "\n",
    "        with torch.no_grad():\n",
    "            for images, labels in val_bar:\n",
    "                images, labels = images.to(device), labels.to(device)\n",
    "                outputs = model(images)\n",
    "                preds = torch.argmax(outputs, 1)\n",
    "                correct += (preds == labels).sum().item()\n",
    "                total += labels.size(0)\n",
    "\n",
    "        val_accuracy = correct / total\n",
    "        val_acc.append(val_accuracy)\n",
    "\n",
    "        print(f\"Epoch {epoch+1} Completed - Train Acc: {train_acc[-1]:.4f} | Val Acc: {val_accuracy:.4f}\")\n",
    "\n",
    "    return model, train_acc, val_acc\n"
   ]
  },
  {
   "cell_type": "code",
   "execution_count": null,
   "id": "985e7c5d",
   "metadata": {},
   "outputs": [],
   "source": [
    "# Start Training\n",
    "model, train_acc, val_acc = train_model(model, train_loader, test_loader, EPOCHS, criterion, optimizer, device)"
   ]
  },
  {
   "cell_type": "code",
   "execution_count": null,
   "id": "7d20750c",
   "metadata": {},
   "outputs": [],
   "source": [
    "# Save final model checkpoint\n",
    "torch.save(model.state_dict(), 'densenet201_final_checkpoint.pth')\n",
    "print(\"✅ Model saved to densenet201_final_checkpoint.pth\")"
   ]
  },
  {
   "cell_type": "code",
   "execution_count": null,
   "id": "069108a3",
   "metadata": {},
   "outputs": [],
   "source": [
    "# Download the model\n",
    "from google.colab import files #noqa\n",
    "files.download('densenet201_final_checkpoint.pth')"
   ]
  }
 ],
 "metadata": {
  "kernelspec": {
   "display_name": "Python 3",
   "language": "python",
   "name": "python3"
  },
  "language_info": {
   "codemirror_mode": {
    "name": "ipython",
    "version": 3
   },
   "file_extension": ".py",
   "mimetype": "text/x-python",
   "name": "python",
   "nbconvert_exporter": "python",
   "pygments_lexer": "ipython3",
   "version": "3.12.6"
  }
 },
 "nbformat": 4,
 "nbformat_minor": 5
}
