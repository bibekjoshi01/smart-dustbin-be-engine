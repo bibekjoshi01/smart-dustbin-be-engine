{
 "cells": [
  {
   "cell_type": "markdown",
   "id": "db55b349",
   "metadata": {},
   "source": [
    "## Load DataSet"
   ]
  },
  {
   "cell_type": "code",
   "execution_count": null,
   "id": "0db17b48",
   "metadata": {},
   "outputs": [],
   "source": [
    "import os\n",
    "os.environ['KAGGLE_USERNAME'] = \"manishjoshimj\"\n",
    "os.environ['KAGGLE_KEY'] = \"14910efaaa9fb2b9f03bd5f3dc575116\"\n",
    "\n",
    "!kaggle datasets download -d manishjoshimj/organico-and-recyclabler-dataset"
   ]
  },
  {
   "cell_type": "code",
   "execution_count": null,
   "id": "536f87a6",
   "metadata": {},
   "outputs": [],
   "source": [
    "# Unzip the dataset\n",
    "\n",
    "!unzip -q organico-and-recyclabler-dataset.zip -d waste-dataset"
   ]
  },
  {
   "cell_type": "markdown",
   "id": "9cd45231",
   "metadata": {},
   "source": [
    "## Necessary Imports"
   ]
  },
  {
   "cell_type": "code",
   "execution_count": null,
   "id": "3dee3d4c",
   "metadata": {},
   "outputs": [],
   "source": [
    "import os\n",
    "import torch\n",
    "import torch.nn as nn\n",
    "import torch.optim as optim\n",
    "from torchvision import datasets, models, transforms\n",
    "from torch.utils.data import DataLoader, Dataset\n",
    "import matplotlib.pyplot as plt\n",
    "import random"
   ]
  },
  {
   "cell_type": "code",
   "execution_count": null,
   "id": "2b0c5d01",
   "metadata": {},
   "outputs": [],
   "source": [
    "# Constants\n",
    "device = torch.device(\"cuda\" if torch.cuda.is_available() else \"cpu\")\n",
    "IMG_SIZE = 224\n",
    "BATCH_SIZE = 32\n",
    "EPOCHS = 10\n",
    "DATASET_DIR = '/content/waste-dataset/O_R_WASTE_CLASSIFICATION_DATASET'\n"
   ]
  },
  {
   "cell_type": "code",
   "execution_count": null,
   "id": "921d3291",
   "metadata": {},
   "outputs": [],
   "source": [
    "# Transforming the dataset using randomization\n",
    "\n",
    "train_transform = transforms.Compose([\n",
    "    transforms.Resize((IMG_SIZE, IMG_SIZE)),\n",
    "    transforms.RandomHorizontalFlip(),\n",
    "    transforms.RandomRotation(10),\n",
    "    transforms.ToTensor(),\n",
    "    transforms.Normalize([0.485, 0.456, 0.406], [0.229, 0.224, 0.225])\n",
    "])\n",
    "\n",
    "test_transform = transforms.Compose([\n",
    "    transforms.Resize((IMG_SIZE, IMG_SIZE)),\n",
    "    transforms.ToTensor(),\n",
    "    transforms.Normalize([0.485, 0.456, 0.406], [0.229, 0.224, 0.225])\n",
    "])"
   ]
  },
  {
   "cell_type": "code",
   "execution_count": null,
   "id": "afd5e761",
   "metadata": {},
   "outputs": [],
   "source": [
    "# Loading Dataset\n",
    "\n",
    "train_dataset = datasets.ImageFolder(os.path.join(DATASET_DIR, \"TRAIN\"), transform=train_transform)\n",
    "test_dataset = datasets.ImageFolder(os.path.join(DATASET_DIR, \"TEST\"), transform=test_transform)"
   ]
  }
 ],
 "metadata": {
  "kernelspec": {
   "display_name": "Python 3",
   "language": "python",
   "name": "python3"
  },
  "language_info": {
   "codemirror_mode": {
    "name": "ipython",
    "version": 3
   },
   "file_extension": ".py",
   "mimetype": "text/x-python",
   "name": "python",
   "nbconvert_exporter": "python",
   "pygments_lexer": "ipython3",
   "version": "3.12.6"
  }
 },
 "nbformat": 4,
 "nbformat_minor": 5
}
