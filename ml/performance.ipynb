{
 "cells": [
  {
   "cell_type": "markdown",
   "id": "b73df334",
   "metadata": {},
   "source": [
    "## Testing the performance of the trained model"
   ]
  }
 ],
 "metadata": {
  "language_info": {
   "name": "python"
  }
 },
 "nbformat": 4,
 "nbformat_minor": 5
}
