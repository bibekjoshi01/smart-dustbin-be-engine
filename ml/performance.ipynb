{
 "cells": [
  {
   "cell_type": "code",
   "execution_count": null,
   "id": "536be0e9",
   "metadata": {},
   "outputs": [],
   "source": [
    "import torch\n",
    "import torch.nn as nn\n",
    "import torch.nn.functional as F\n",
    "from torchvision import models, transforms\n",
    "import random\n",
    "import os"
   ]
  },
  {
   "cell_type": "code",
   "execution_count": null,
   "id": "a254521c",
   "metadata": {},
   "outputs": [],
   "source": [
    "# Constants\n",
    "device = torch.device(\"cuda\" if torch.cuda.is_available() else \"cpu\")\n",
    "IMG_SIZE = 224"
   ]
  },
  {
   "cell_type": "markdown",
   "id": "b73df334",
   "metadata": {},
   "source": [
    "## Testing the performance of the trained model"
   ]
  },
  {
   "cell_type": "code",
   "execution_count": null,
   "id": "91e5aacf",
   "metadata": {},
   "outputs": [],
   "source": [
    "def get_model():\n",
    "    model = models.densenet201(pretrained=True)\n",
    "    for param in model.parameters():\n",
    "        param.requires_grad = False  # Prevents the pre-trained weights from being updated during training.\n",
    "\n",
    "    # Replace classifier\n",
    "    num_ftrs = model.classifier.in_features\n",
    "    model.classifier = nn.Sequential(\n",
    "        nn.Linear(num_ftrs, 256),\n",
    "        nn.ReLU(),\n",
    "        nn.Dropout(0.4),\n",
    "        nn.Linear(256, 2)  # 2 classes: O, R\n",
    "    )\n",
    "\n",
    "    return model.to(device)\n",
    "\n",
    "model = get_model()"
   ]
  },
  {
   "cell_type": "code",
   "execution_count": null,
   "id": "2b665062",
   "metadata": {},
   "outputs": [],
   "source": [
    "model = get_model()\n",
    "model.load_state_dict(\"densenet201_final_checkpoint.pth\", map_location=device)\n",
    "model.eval()"
   ]
  },
  {
   "cell_type": "code",
   "execution_count": null,
   "id": "c452a6cd",
   "metadata": {},
   "outputs": [],
   "source": [
    "# Transforming the dataset using randomization \n",
    "test_transform = transforms.Compose([\n",
    "    transforms.Resize((IMG_SIZE, IMG_SIZE)),\n",
    "    transforms.ToTensor(),\n",
    "    transforms.Normalize([0.485, 0.456, 0.406], [0.229, 0.224, 0.225])\n",
    "])"
   ]
  },
  {
   "cell_type": "code",
   "execution_count": null,
   "id": "f1b88e94",
   "metadata": {},
   "outputs": [],
   "source": [
    "def densenet_inference(image_input):\n",
    "    \"\"\"\n",
    "    Returns 'O' or 'R' with confidence.\n",
    "    \"\"\"\n",
    "    if isinstance(image_input, str):\n",
    "        image = Image.open(image_input).convert(\"RGB\")\n",
    "    else:\n",
    "        image = image_input.convert(\"RGB\")\n",
    "\n",
    "    # Apply test transformations\n",
    "    img_tensor = test_transform(image).unsqueeze(0).to(device)\n",
    "    densenet_class_names = [\"O\", \"R\"]\n",
    "\n",
    "    model.eval()  # Set model to evaluation mode\n",
    "    with torch.no_grad():\n",
    "        output = model(img_tensor)  # model output\n",
    "        probabilities = F.softmax(output, dim=1)  # all probabilities\n",
    "        pred_class_idx = torch.argmax(\n",
    "            probabilities, dim=1\n",
    "        ).item()  # class index with highest probability\n",
    "        confidence = probabilities[0, pred_class_idx].item()  # confidence score\n",
    "        pred_class = densenet_class_names[pred_class_idx]  # class name\n",
    "\n",
    "    print(f\"[DenseNet] Prediction: {pred_class} (Confidence: {confidence:.2f})\")\n",
    "    return pred_class, confidence"
   ]
  },
  {
   "cell_type": "code",
   "execution_count": null,
   "id": "4bc30dea",
   "metadata": {},
   "outputs": [],
   "source": [
    "def get_image_paths(folder_path):\n",
    "    \"\"\"\n",
    "    Returns a list of image file paths from the folder.\n",
    "    \"\"\"\n",
    "\n",
    "    extensions = [\".jpg\", \".jpeg\", \".png\"]\n",
    "\n",
    "    files = [\n",
    "        os.path.join(folder_path, f)\n",
    "        for f in os.listdir(folder_path)\n",
    "        if os.path.isfile(os.path.join(folder_path, f))\n",
    "        and os.path.splitext(f)[1].lower() in extensions\n",
    "    ]\n",
    "    \n",
    "    random.shuffle(files)\n",
    "\n",
    "    return files"
   ]
  },
  {
   "cell_type": "code",
   "execution_count": null,
   "id": "49a94ff0",
   "metadata": {
    "vscode": {
     "languageId": "shellscript"
    }
   },
   "outputs": [],
   "source": [
    "files = get_image_paths(r'smart-dustbin-be-engine/ml/data')\n",
    "\n",
    "for file in files:\n",
    "    densenet_inference(file)"
   ]
  }
 ],
 "metadata": {
  "language_info": {
   "name": "python"
  }
 },
 "nbformat": 4,
 "nbformat_minor": 5
}
